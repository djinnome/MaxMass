{
 "cells": [
  {
   "cell_type": "markdown",
   "metadata": {},
   "source": [
    "Implement the ring-plots from the [MinGenome](https://pubs.acs.org/doi/10.1021/acssynbio.7b00296).\n",
    "\n",
    "[Bokeh \"Burtin\" example](https://bokeh.pydata.org/en/latest/docs/gallery/burtin.html) may provide some helpful hints.\n",
    "\n",
    "\n",
    "Question: Encode the protein value on the area or height?  How is that read?\n",
    "\n",
    "Next steps:\n",
    "* Set 0 to top  (DONE)\n",
    "* Essential/non-essential color encodeing (With A/B for local contrast)\n",
    "* Use dataset from tutorial; wild-type control (DONE)\n",
    "* Predicted vs observed protein allocation \n",
    "* Generate the Gene block plot (left of the \"results\" seciton) (DONE)\n",
    "\n",
    "Jeremy Z to send:\n",
    "* Predictions for each step (recieved)\n",
    "* Observations for each step (recieved)\n",
    "* Essential genes for each steps (recieved)\n",
    "* Genes we **should** be knocking out at each step \n"
   ]
  },
  {
   "cell_type": "code",
   "execution_count": null,
   "metadata": {},
   "outputs": [],
   "source": [
    "import pandas as pd\n",
    "import numpy as np\n",
    "\n",
    "from collections import OrderedDict\n",
    "from math import log, sqrt\n",
    "\n",
    "import bokeh\n",
    "from bokeh.plotting import figure, curdoc\n",
    "from bokeh.io import show, output_notebook, export_png\n",
    "\n",
    "from bokeh.models import ColumnDataSource, CategoricalColorMapper, Whisker, LabelSet, Div\n",
    "from bokeh.models import HoverTool, BoxSelectTool, PanTool, WheelZoomTool, ResetTool, SaveTool, ColorBar\n",
    "from bokeh.models import widgets\n",
    "from bokeh.models import formatters \n",
    "from bokeh.models.ranges import FactorRange\n",
    "from bokeh.models.formatters import PrintfTickFormatter, FuncTickFormatter\n",
    "\n",
    "from bokeh.transform import factor_cmap, linear_cmap, dodge\n",
    "\n",
    "from bokeh import events\n",
    "from bokeh.layouts import column, row, widgetbox, layout, gridplot\n",
    "from bokeh import palettes\n",
    "\n",
    "from bokeh.models import ColumnDataSource, Plot, LinearAxis, Grid\n",
    "from bokeh.models.glyphs import HBar\n",
    "from bokeh.transform import factor_cmap\n",
    "import bokeh.palettes as palettes\n",
    "from bokeh.palettes import PiYG, Spectral6, Category10, Category20_20\n",
    "\n",
    "import colorcet\n",
    "\n",
    "output_notebook()\n",
    "%matplotlib inline"
   ]
  },
  {
   "cell_type": "code",
   "execution_count": null,
   "metadata": {},
   "outputs": [],
   "source": [
    "bokeh.__version__\n",
    "#TODO: When version is 1.0.4 then try bokeh/latex: https://bokeh.pydata.org/en/latest/docs/user_guide/extensions_gallery/latex.html"
   ]
  },
  {
   "cell_type": "code",
   "execution_count": null,
   "metadata": {},
   "outputs": [],
   "source": [
    "from math import ceil \n",
    "\n",
    "def square_shape(N, sh=1, sw=1):\n",
    "    #https://stackoverflow.com/questions/339939/stacking-rectangles-to-into-the-most-square-like-arrangement-possible\n",
    "    cols = round(sqrt(N * sh / sw))\n",
    "    rows = ceil(N / cols)\n",
    "    return rows, cols"
   ]
  },
  {
   "cell_type": "code",
   "execution_count": null,
   "metadata": {},
   "outputs": [],
   "source": [
    "knockouts = pd.read_csv(\"./Blattner_ecoli_kos.tab\")\n",
    "knockouts.columns.values[0] = \"locus\"\n",
    "knockouts = knockouts.set_index(\"locus\")\n",
    "knockouts.head()"
   ]
  },
  {
   "cell_type": "code",
   "execution_count": null,
   "metadata": {},
   "outputs": [],
   "source": [
    "observed = pd.read_csv(\"E.coli_avg_iBAQ_mass_pct_induced_v_uninduced.tab\", sep=\"\\t\").set_index(\"Blattner\").drop(\"index\", axis=\"columns\")\n",
    "observed.head()"
   ]
  },
  {
   "cell_type": "code",
   "execution_count": null,
   "metadata": {},
   "outputs": [],
   "source": [
    "predicted = pd.read_csv(\"./protein_mass_percent_predicted_from_previous_step.csv\").set_index(\"level_0\")\n",
    "predicted.tail()"
   ]
  },
  {
   "cell_type": "code",
   "execution_count": null,
   "metadata": {},
   "outputs": [],
   "source": [
    "genes = pd.read_csv(\"./E_coli_metadata.txt\", sep=\"\\t\")[[\"gene\", \"locus\", \"start\", \"stop\"]]\n",
    "genes = genes[~genes[\"locus\"].str.startswith(\"unique\")].reset_index(drop=True)\n",
    "genes = genes.set_index(\"locus\").sort_values(\"start\")\n",
    "genes = genes[~genes.index.duplicated(keep=\"first\")]\n",
    "genes = genes.assign(center=(genes[\"stop\"]-genes[\"start\"])/2+ genes[\"start\"],\n",
    "                     seq=np.arange(genes.shape[0]))\n",
    "\n",
    "max_loc = genes.stop.max()\n",
    "genes = genes.assign(start_pct = genes.start/max_loc,\n",
    "                     stop_pct = genes.stop/max_loc,\n",
    "                     center_pct = genes.center/max_loc)\n",
    "\n",
    "genes = genes.assign(stop_rad = -np.radians(genes.start_pct*360-90),\n",
    "                     start_rad = -np.radians(genes.stop_pct*360-90),\n",
    "                     center_rad = -np.radians(genes.center_pct*360-90))\n",
    "\n",
    "genes = genes.drop([\"start_pct\", \"stop_pct\", \"center_pct\"], axis=\"columns\")\n",
    "genes.head()"
   ]
  },
  {
   "cell_type": "code",
   "execution_count": null,
   "metadata": {},
   "outputs": [],
   "source": [
    "from functools import reduce\n",
    "\n",
    "def export(p, filename, multiplier=4):\n",
    "    \"Rescale components & fonts. Save to file\"\n",
    "\n",
    "    def depath(obj, path, default): \n",
    "        try: return reduce(lambda acc, v: acc[v], path, obj)\n",
    "        except: return default\n",
    "\n",
    "    def mpt(obj, path, default):\n",
    "        try: \n",
    "            v = depath(obj, path, default)\n",
    "            return \"{}pt\".format(str(int(v[:-2])*multiplier))\n",
    "        except: return \"{}pt\".format(default*multiplier)\n",
    "    \n",
    "    p.toolbar.logo = None\n",
    "    p.toolbar_location = None\n",
    "    p.title.text_font_size = mpt(p, [\"title\", \"text_font_size\"], 12)\n",
    "    p.yaxis.major_label_text_font_size = mpt(p, [\"yaxis\", \"major_label_text_font_size\"], 10)\n",
    "\n",
    "    \n",
    "    cb = p.select({\"name\": \"colorbar\"})\n",
    "    if cb is not None:\n",
    "        cb.title_text_font_size = mpt(cb, [\"title_text_font_size\"], 10)\n",
    "        cb.major_label_text_font_size = mpt(cb, [\"major_label_text_font_size\"], 10)\n",
    "        cb.label_standoff = depath(cb, [\"label_standoff\"], 10)*multiplier\n",
    "        cb.title_standoff = depath(cb, [\"title_standoff\"], 10)*multiplier\n",
    "\n",
    "    export_png(p, filename,\n",
    "               height=depath(p, [\"height\"], 400)*multiplier, \n",
    "               width=depath(p, [\"width\"], 400)*multiplier)"
   ]
  },
  {
   "cell_type": "markdown",
   "metadata": {},
   "source": [
    "# Gene Block"
   ]
  },
  {
   "cell_type": "code",
   "execution_count": null,
   "metadata": {},
   "outputs": [],
   "source": [
    "#Isolate data\n",
    "gene_drop = genes.join(knockouts.drop(['gene', 'E_coli_W3110'], axis=\"columns\") , how=\"left\")\\\n",
    "                 .drop([\"stop_rad\", \"start_rad\", \"center_rad\", \"center\"], axis=\"columns\")\n",
    "rows, cols = square_shape(gene_drop.seq.max())\n",
    "gene_drop = gene_drop.assign(col = gene_drop.seq%cols, row=-(gene_drop.seq//rows),\n",
    "                             start = gene_drop.start/1000,\n",
    "                             stop = gene_drop.stop/1000)\n",
    "\n",
    "#gene_drop.head()"
   ]
  },
  {
   "cell_type": "code",
   "execution_count": null,
   "metadata": {},
   "outputs": [],
   "source": [
    "# Prep image\n",
    "#rows, cols = square_shape(end)\n",
    "img = np.full((rows, cols), np.nan).ravel()\n",
    "\n",
    "for start, stop, v in gene_drop[[\"start\", \"stop\", \"Step\"]].values:\n",
    "    img[int(start):int(stop)] =v\n",
    "\n",
    "img = np.flipud(img.reshape((rows, cols)))"
   ]
  },
  {
   "cell_type": "code",
   "execution_count": null,
   "metadata": {},
   "outputs": [],
   "source": [
    "#Visualization\n",
    "def block_diagram():\n",
    "    round_step_top = ((gene_drop.Step.max()//10)+1)*10  #TODO: Should I use this rounded-up number or just max?  \n",
    "    cmap = linear_cmap('Step', palettes.Viridis256 , low=0, high=round_step_top, \n",
    "                       nan_color='#efefef')[\"transform\"]\n",
    "\n",
    "    p = figure(width=500, height=400, x_range=(0,cols), y_range=(rows,0), \n",
    "               title=\"Gene Deletions: Step & Location\",\n",
    "               tooltips=[(\"\", \"@image\")])\n",
    "\n",
    "    p.yaxis.formatter = PrintfTickFormatter(format=\"%d kbp\")\n",
    "    p.xaxis.visible=False\n",
    "    p.image(image=[img], x=0, y=rows, dw=cols, dh=rows, color_mapper=cmap)\n",
    "\n",
    "    colorbar = ColorBar(color_mapper=cmap, location=(0,0), title=\"step\", name=\"colorbar\")\n",
    "    p.add_layout(colorbar, \"right\")\n",
    "    return p\n",
    "\n",
    "p = block_diagram()\n",
    "show(p)\n",
    "export(p, \"gene_block.png\")"
   ]
  },
  {
   "cell_type": "code",
   "execution_count": null,
   "metadata": {},
   "outputs": [],
   "source": []
  },
  {
   "cell_type": "markdown",
   "metadata": {},
   "source": [
    "# Protein Rings"
   ]
  },
  {
   "cell_type": "code",
   "execution_count": null,
   "metadata": {},
   "outputs": [],
   "source": [
    "def ring_plot(data, cmap, *, title=\"\", rng=(-10, 10), out_steps=3):\n",
    "    size = 400\n",
    "    inner_radius = size/4\n",
    "    \n",
    "    if \"outer\" not in data.columns: data = data.assign(outer=size/100)\n",
    "    if \"inner\" not in data.columns: data = data.assign(inner=0)\n",
    "     \n",
    "    data = data.assign(inner_radius=data.inner+inner_radius)\\\n",
    "               .assign(outer_radius=data.outer+inner_radius)\n",
    "        \n",
    "    source = ColumnDataSource(data)\n",
    "\n",
    "    span = data.outer_radius.abs().max()\n",
    "\n",
    "    p = figure(plot_width=size, plot_height=size,\n",
    "                x_range=(span, -span), y_range=(span,-span),\n",
    "                title=title)\n",
    "    \n",
    "    p.axis.visible = False\n",
    "    p.xgrid.grid_line_color = None\n",
    "    p.ygrid.grid_line_color = None\n",
    "\n",
    "    p.annular_wedge(source=source,\n",
    "                    x=0,y=0, \n",
    "                    inner_radius=\"inner_radius\", outer_radius=\"outer_radius\",\n",
    "                    start_angle=\"start_rad\", end_angle=\"stop_rad\",\n",
    "                    color=cmap)\n",
    "    \n",
    "    # \"Nice\" radial labels\n",
    "    out_radii = np.linspace(inner_radius, data.outer_radius.max(), out_steps)\n",
    "    in_radii = np.linspace(0, inner_radius, int(inner_radius/(out_radii[1]-out_radii[0])))\n",
    "\n",
    "    radii = np.concatenate([in_radii, out_radii])\n",
    "    out_labels = np.linspace(0, rng[1], out_radii.shape[0])\n",
    "    in_labels = np.linspace(-3*out_labels[1], 0, in_radii.shape[0])\n",
    "    labels = np.concatenate([in_labels, out_labels])\n",
    "\n",
    "    cutoff = np.where(labels < rng[0])[0]\n",
    "    cutoff=cutoff[-1] if cutoff.shape[0] > 0 else 0\n",
    "    \n",
    "    p.circle(0, 0, radius=radii[cutoff:], fill_color=None, line_color=\"lightgray\")\n",
    "    p.text(0, radii[cutoff:], [f\"{r:9.2f}\" for r in labels[cutoff:]],\n",
    "           text_font_size=\"8pt\", text_align=\"center\", text_baseline=\"middle\")\n",
    "\n",
    "    return p"
   ]
  },
  {
   "cell_type": "code",
   "execution_count": null,
   "metadata": {},
   "outputs": [],
   "source": [
    "data = genes.assign(ab = (genes.seq%2).apply(str))\\\n",
    "            .assign(outer=np.linspace(1,10, genes.shape[0]))\n",
    "    \n",
    "cmap = factor_cmap('ab', [\"#F05974\", \"#260D75\"], [\"0\", \"1\"])\n",
    "\n",
    "show(ring_plot(data, cmap, title=\"A/B Seq Map\"))"
   ]
  },
  {
   "cell_type": "code",
   "execution_count": null,
   "metadata": {},
   "outputs": [],
   "source": [
    "bokeh.io.export_png(ring_plot(data, cmap, title=\"A/B Seq Map\"))"
   ]
  },
  {
   "cell_type": "code",
   "execution_count": null,
   "metadata": {},
   "outputs": [],
   "source": [
    "observed.columns"
   ]
  },
  {
   "cell_type": "code",
   "execution_count": null,
   "metadata": {},
   "outputs": [],
   "source": [
    "from bokeh.layouts import gridplot\n",
    "def grid(plots, size=150):\n",
    "    rows, cols = square_shape(len(plots))\n",
    "    return gridplot(plots, ncols=cols, plot_width=size, plot_height=size)\n"
   ]
  },
  {
   "cell_type": "code",
   "execution_count": null,
   "metadata": {},
   "outputs": [],
   "source": [
    "def single_condition(condition, *, base=None, scale=10000):\n",
    "    vs = condition if base is None else base**condition\n",
    "    vs = vs/vs.sum()*scale\n",
    "\n",
    "    data = genes.join(vs, how=\"left\")\\\n",
    "                .fillna(0)\\\n",
    "                .assign(ab = (genes.seq%2).apply(str))\\\n",
    "                .rename({condition.name:\"outer\"}, axis=\"columns\")\n",
    "\n",
    "    cmap = factor_cmap('ab', [\"#F05974\", \"#260D75\"], [\"0\", \"1\"])\n",
    "\n",
    "    plot =  ring_plot(data, cmap)\n",
    "    plot.title.text=condition.name\n",
    "    return plot\n",
    "\n",
    "show(single_condition(observed[\"W3110_control\"], base=2))\n"
   ]
  },
  {
   "cell_type": "code",
   "execution_count": null,
   "metadata": {},
   "outputs": [],
   "source": [
    "def delta_plot(focus, reference, genes, *, scale=500):\n",
    "    delta = (focus - reference).rename(\"delta\")*scale\n",
    "    data = genes.join(delta, how=\"left\")\\\n",
    "                .fillna(0)\n",
    "    data = data.assign(pn = data[\"delta\"].apply(lambda v: \"+\" if v > 0 else \"-\"))\\\n",
    "                .rename({\"delta\": \"outer\"}, axis=\"columns\")\n",
    "\n",
    "    cmap = factor_cmap('pn', [\"#E02E4E\", \"#4D31A5\"], [\"+\", \"-\"])\n",
    "\n",
    "    plot =  ring_plot(data, cmap, title = f\"{focus.name} vs {reference.name}\")\n",
    "    \n",
    "    return plot"
   ]
  },
  {
   "cell_type": "code",
   "execution_count": null,
   "metadata": {},
   "outputs": [],
   "source": [
    "show(delta_plot(observed[\"Step_06_control\"], observed[\"W3110_control\"], genes))"
   ]
  },
  {
   "cell_type": "code",
   "execution_count": null,
   "metadata": {
    "scrolled": false
   },
   "outputs": [],
   "source": [
    "g = grid([single_condition(observed[condition]) for condition in observed.columns])\n",
    "show(g)"
   ]
  },
  {
   "cell_type": "code",
   "execution_count": null,
   "metadata": {},
   "outputs": [],
   "source": [
    "show(single_condition(predicted[predicted.columns[-6]], base=2))\n"
   ]
  },
  {
   "cell_type": "code",
   "execution_count": null,
   "metadata": {
    "scrolled": false
   },
   "outputs": [],
   "source": [
    "step_predictions = \"\"\"Step04_predicted_from_WT\n",
    "Step05_predicted_from_Step04\n",
    "Step05_predicted_from_WT\n",
    "Step09_predicted_from_WT\n",
    "Step10_predicted_from_Step09\n",
    "Step10_predicted_from_WT\"\"\".split('\\n')\n",
    "plots = []\n",
    "for step_predicted in step_predictions:\n",
    "    step_measured = 'iBAQ_{}'.format(step_predicted[:6])\n",
    "    positive_mask = (predicted[step_predicted].apply(np.log2) - predicted[step_measured].apply(np.log2)) > 0\n",
    "    negative_mask = ~positive_mask\n",
    "    over_predicted = predicted[positive_mask][step_predicted].sum()\n",
    "    under_predicted = predicted[negative_mask][step_predicted].sum()\n",
    "    net_predicted = over_predicted - under_predicted\n",
    "    print('Overpredicted: {:.0%}\\nUnderpredicted: {:.0%}\\nNet predicted: {:.0%}\\n'.format(over_predicted,\n",
    "                                                                             under_predicted,\n",
    "                                                                             net_predicted))\n",
    "    p = delta_plot(predicted[step_predicted].apply(np.log2).fillna(0), \n",
    "                predicted[step_measured].apply(np.log2).fillna(0),\n",
    "                genes, scale=5 )\n",
    "    plots.append(p)\n",
    "    show(p)\n",
    "    export(p, '{}_vs_{}.png'.format( step_predicted, \n",
    "                                     step_measured ))\n",
    "grid_plot = grid(plots)\n",
    "#show(grid_plot)\n",
    "#export(grid_plot, 'grid_plot.png')"
   ]
  },
  {
   "cell_type": "code",
   "execution_count": null,
   "metadata": {},
   "outputs": [],
   "source": [
    "from IPython.display import Latex, HTML\n",
    "Latex(predicted.columns[-6])"
   ]
  },
  {
   "cell_type": "code",
   "execution_count": null,
   "metadata": {},
   "outputs": [],
   "source": [
    "for i in range(6):\n",
    "    display(Latex(predicted.columns[-6+i]))"
   ]
  },
  {
   "cell_type": "code",
   "execution_count": null,
   "metadata": {},
   "outputs": [],
   "source": [
    "print('\\n'.join(predicted.columns))"
   ]
  },
  {
   "cell_type": "code",
   "execution_count": null,
   "metadata": {},
   "outputs": [],
   "source": [
    "novel_predictions = pd.read_csv(\"genome_view.tab\", sep=\"\\t\")\n",
    "novel_predictions = novel_predictions[novel_predictions[\"$gene_or_promoter\"].str.startswith(\"b\")]\\\n",
    "                        .rename({\"$gene_or_promoter\": \"gene_or_promoter\",\n",
    "                                 \"mass reclaimed $(fg/cell)$\": \"mass reclaimed (fg/cell)\"}, axis=\"columns\")\\\n",
    "                        .set_index(\"gene_or_promoter\")\n",
    "\n",
    "novel_predictions\n",
    "novel_predictions.head()"
   ]
  },
  {
   "cell_type": "code",
   "execution_count": null,
   "metadata": {},
   "outputs": [],
   "source": [
    "p= single_condition(novel_predictions[\"mass reclaimed (fg/cell)\"])\n",
    "show(p)\n",
    "export(p, \"reclaimed.png\")"
   ]
  },
  {
   "cell_type": "code",
   "execution_count": null,
   "metadata": {},
   "outputs": [],
   "source": []
  },
  {
   "cell_type": "code",
   "execution_count": null,
   "metadata": {},
   "outputs": [],
   "source": []
  }
 ],
 "metadata": {
  "kernelspec": {
   "display_name": "Python (synth_bio)",
   "language": "python",
   "name": "synthn_bio"
  },
  "language_info": {
   "codemirror_mode": {
    "name": "ipython",
    "version": 3
   },
   "file_extension": ".py",
   "mimetype": "text/x-python",
   "name": "python",
   "nbconvert_exporter": "python",
   "pygments_lexer": "ipython3",
   "version": "3.6.7"
  }
 },
 "nbformat": 4,
 "nbformat_minor": 2
}
