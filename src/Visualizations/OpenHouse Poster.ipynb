{
 "cells": [
  {
   "cell_type": "markdown",
   "metadata": {},
   "source": [
    "Implement the ring-plots from the [MinGenome](https://pubs.acs.org/doi/10.1021/acssynbio.7b00296).\n",
    "\n",
    "[Bokeh \"Burtin\" example](https://bokeh.pydata.org/en/latest/docs/gallery/burtin.html) may provide some helpful hints.\n",
    "\n",
    "Question: Encode the protein value on the area or height?  How is that read?\n",
    "\n",
    "Next steps to include:\n",
    "* Genes we **should** be knocking out at each step?\n",
    "* Genes we think are essential at each step?\n",
    "* color regions knocked out already?\n"
   ]
  },
  {
   "cell_type": "code",
   "execution_count": null,
   "metadata": {},
   "outputs": [],
   "source": [
    "import pandas as pd\n",
    "import numpy as np\n",
    "\n",
    "from collections import OrderedDict\n",
    "from math import log, sqrt\n",
    "\n",
    "import bokeh\n",
    "from bokeh.plotting import figure, curdoc\n",
    "from bokeh.io import show, output_notebook, export_png\n",
    "\n",
    "from bokeh.models import ColumnDataSource, CategoricalColorMapper, Whisker, LabelSet, Div\n",
    "from bokeh.models import HoverTool, BoxSelectTool, PanTool, WheelZoomTool, ResetTool, SaveTool, ColorBar\n",
    "from bokeh.models import widgets\n",
    "from bokeh.models import formatters \n",
    "from bokeh.models.ranges import FactorRange\n",
    "from bokeh.models.formatters import PrintfTickFormatter, FuncTickFormatter\n",
    "\n",
    "from bokeh.transform import factor_cmap, linear_cmap, dodge\n",
    "\n",
    "from bokeh import events\n",
    "from bokeh.layouts import column, row, widgetbox, layout, gridplot\n",
    "from bokeh import palettes\n",
    "\n",
    "from bokeh.models import ColumnDataSource, Plot, LinearAxis, Grid\n",
    "from bokeh.models.glyphs import HBar\n",
    "from bokeh.transform import factor_cmap\n",
    "import bokeh.palettes as palettes\n",
    "from bokeh.palettes import PiYG, Spectral6, Category10, Category20_20\n",
    "\n",
    "import colorcet\n",
    "\n",
    "output_notebook()\n",
    "%matplotlib inline"
   ]
  },
  {
   "cell_type": "code",
   "execution_count": null,
   "metadata": {},
   "outputs": [],
   "source": [
    "bokeh.__version__\n",
    "#TODO: When version is 1.0.4 then try bokeh/latex: https://bokeh.pydata.org/en/latest/docs/user_guide/extensions_gallery/latex.html"
   ]
  },
  {
   "cell_type": "code",
   "execution_count": null,
   "metadata": {},
   "outputs": [],
   "source": [
    "from math import ceil \n",
    "\n",
    "def square_shape(N, sh=1, sw=1):\n",
    "    #https://stackoverflow.com/questions/339939/stacking-rectangles-to-into-the-most-square-like-arrangement-possible\n",
    "    cols = round(sqrt(N * sh / sw))\n",
    "    rows = ceil(N / cols)\n",
    "    return rows, cols"
   ]
  },
  {
   "cell_type": "code",
   "execution_count": null,
   "metadata": {},
   "outputs": [],
   "source": [
    "knockouts = pd.read_csv(\"./Blattner_ecoli_kos.tab\",sep='\\t')\n",
    "knockouts.columns.values[0] = \"locus\"\n",
    "knockouts = knockouts.set_index(\"locus\")\n",
    "knockouts.head()"
   ]
  },
  {
   "cell_type": "code",
   "execution_count": null,
   "metadata": {},
   "outputs": [],
   "source": [
    "knockouts[knockouts['Step'] <=10].to_csv('Blattner_ecoli_kos_1-10.tab',sep='\\t')"
   ]
  },
  {
   "cell_type": "code",
   "execution_count": null,
   "metadata": {},
   "outputs": [],
   "source": [
    "observed = pd.read_csv(\"E.coli_avg_iBAQ_mass_pct_induced_v_uninduced.tab\", sep=\"\\t\").set_index(\"Blattner\").drop(\"index\", axis=\"columns\")\n",
    "observed.head()"
   ]
  },
  {
   "cell_type": "code",
   "execution_count": null,
   "metadata": {},
   "outputs": [],
   "source": [
    "predicted = pd.read_csv(\"./protein_mass_percent_predicted_from_previous_step.csv\").set_index(\"level_0\")\n",
    "predicted.tail()"
   ]
  },
  {
   "cell_type": "code",
   "execution_count": null,
   "metadata": {},
   "outputs": [],
   "source": [
    "genes = pd.read_csv(\"./E_coli_metadata.txt\", sep=\"\\t\")[[\"gene\", \"locus\", \"start\", \"stop\"]]\n",
    "genes = genes[~genes[\"locus\"].str.startswith(\"unique\")].reset_index(drop=True)\n",
    "genes = genes.set_index(\"locus\").sort_values(\"start\")\n",
    "genes = genes[~genes.index.duplicated(keep=\"first\")]\n",
    "genes = genes.assign(center=(genes[\"stop\"]-genes[\"start\"])/2+ genes[\"start\"],\n",
    "                     seq=np.arange(genes.shape[0]))\n",
    "\n",
    "max_loc = genes.stop.max()\n",
    "genes = genes.assign(start_pct = genes.start/max_loc,\n",
    "                     stop_pct = genes.stop/max_loc,\n",
    "                     center_pct = genes.center/max_loc)\n",
    "\n",
    "genes = genes.assign(stop_rad = -np.radians(genes.start_pct*360-90),\n",
    "                     start_rad = -np.radians(genes.stop_pct*360-90),\n",
    "                     center_rad = -np.radians(genes.center_pct*360-90))\n",
    "\n",
    "genes = genes.drop([\"start_pct\", \"stop_pct\", \"center_pct\"], axis=\"columns\")\n",
    "genes.head()"
   ]
  },
  {
   "cell_type": "code",
   "execution_count": null,
   "metadata": {},
   "outputs": [],
   "source": [
    "import re\n",
    "\n",
    "def enlarge(json, factor=4, indent=None):\n",
    "    \"\"\"Enlarge things by the given factor.\n",
    "    Will only enlarge explicilty set, since all other values are determined by the theme.\n",
    "    TODO: Implement an enlarged theme as well!\n",
    "    \"\"\"\n",
    "    \n",
    "    def mul(v):\n",
    "        if v is None: return v\n",
    "\n",
    "        try: \n",
    "            if v.endswith(\"pt\") or v.endswith(\"em\"): \n",
    "                size = int(v[:-2])*factor\n",
    "                return f\"{size}{v[-2:]}\"\n",
    "        except: pass\n",
    "\n",
    "        try:\n",
    "            c = v.copy()\n",
    "            c[\"value\"] = mul(c[\"value\"])\n",
    "            return c\n",
    "        except: pass\n",
    "\n",
    "        try:  \n",
    "            return v*factor\n",
    "        except: pass\n",
    "\n",
    "\n",
    "        raise ValueError(f\"Cannot Enlarge {v}\")\n",
    "    \n",
    "    patterns = [\"^plot_width$\", \"^plot_height$\", \"^.*font_size$\", \"^.*_standoff$\"]\n",
    "    patterns = [re.compile(p) for p in patterns]\n",
    "    \n",
    "    def _indent():\n",
    "        return f\"{indent}{indent[0]}\" if indent else None\n",
    "    \n",
    "    if type(json) is list:\n",
    "        l = []\n",
    "        for i in range(len(json)):\n",
    "            if indent: print(f\"l: {indent}{i}\")\n",
    "            l.append(enlarge(json[i], factor, _indent()))\n",
    "        return l\n",
    "    elif type(json) is dict:\n",
    "        d = {}\n",
    "        for k,v in json.items():\n",
    "            if indent: print(f\"d: {indent}{k}\")\n",
    "            matched = any([p.match(k) for p in patterns])\n",
    "            if matched: \n",
    "                d[k] = mul(v)\n",
    "            else: \n",
    "                d[k] = enlarge(json[k], factor, _indent())\n",
    "\n",
    "        return d\n",
    "    else:\n",
    "        return json"
   ]
  },
  {
   "cell_type": "code",
   "execution_count": null,
   "metadata": {},
   "outputs": [],
   "source": [
    "def export(p, filename, factor=4):\n",
    "    \"Rescale components & fonts. Save to file\"\n",
    "    \n",
    "    big_theme = {\n",
    "        'attrs' : {\n",
    "            'Title': {\n",
    "                'text_font_size': f'{10*factor}pt'\n",
    "            },\n",
    "            'ColorBar':{\n",
    "                'title_text_font_size': f'{8*factor}pt',\n",
    "                'major_label_text_font_size': f'{8*factor}pt',\n",
    "                'major_label_text_align': \"left\"\n",
    "            },\n",
    "            'Axis': {\n",
    "                'major_label_text_font_size': f'{8*factor}pt',\n",
    "                'axis_label_text_font_size': f'{8*factor}pt'\n",
    "            }\n",
    "\n",
    "        }\n",
    "    }\n",
    "    theme = bokeh.themes.Theme(json=big_theme)\n",
    "\n",
    "    jdoc = p.document.to_json()\n",
    "    jdoc2 = enlarge(jdoc, factor)\n",
    "    doc2 = bokeh.document.Document.from_json(jdoc2)\n",
    "    doc2.theme = theme\n",
    "    bokeh.io.reset_output()\n",
    "    output_notebook()\n",
    "\n",
    "    p2 = doc2.get_model_by_id(p.id)\n",
    "    p2.toolbar.logo = None\n",
    "    p2.toolbar_location = None\n",
    "        \n",
    "    bokeh.io.export_png(p2, filename, width=p.plot_width*factor, height=p.plot_height*factor)\n",
    "    return p2"
   ]
  },
  {
   "cell_type": "markdown",
   "metadata": {},
   "source": [
    "# Gene Block"
   ]
  },
  {
   "cell_type": "code",
   "execution_count": null,
   "metadata": {},
   "outputs": [],
   "source": [
    "#Isolate data\n",
    "gene_drop = genes.join(knockouts.drop(['gene', 'E_coli_W3110'], axis=\"columns\") , how=\"left\")\\\n",
    "                 .drop([\"stop_rad\", \"start_rad\", \"center_rad\", \"center\"], axis=\"columns\")\n",
    "rows, cols = square_shape(gene_drop.seq.max())\n",
    "gene_drop = gene_drop.assign(col = gene_drop.seq%cols, row=-(gene_drop.seq//rows),\n",
    "                             start = gene_drop.start/1000,\n",
    "                             stop = gene_drop.stop/1000)\n",
    "\n",
    "#gene_drop.head()"
   ]
  },
  {
   "cell_type": "code",
   "execution_count": null,
   "metadata": {},
   "outputs": [],
   "source": [
    "# Prep image\n",
    "#rows, cols = square_shape(end)\n",
    "img = np.full((rows, cols), np.nan).ravel()\n",
    "\n",
    "for start, stop, v in gene_drop[[\"start\", \"stop\", \"Step\"]].values:\n",
    "    img[int(start):int(stop)] =v\n",
    "\n",
    "img = np.flipud(img.reshape((rows, cols)))"
   ]
  },
  {
   "cell_type": "code",
   "execution_count": null,
   "metadata": {},
   "outputs": [],
   "source": [
    "#Visualization\n",
    "def block_diagram(interactive=False):\n",
    "    bokeh.io.curdoc().clear()\n",
    "    image = np.flipud(img)\n",
    "    round_step_top = ((gene_drop.Step.max()//10)+1)*10  #TODO: Should I use this rounded-up number or just max?  \n",
    "    cmap = linear_cmap('Step', palettes.Viridis256 , low=0, high=round_step_top, \n",
    "                       nan_color='#efefef')[\"transform\"]\n",
    "\n",
    "    row_scale = cols\n",
    "    col_scale = rows\n",
    "    \n",
    "    #There are problems with combining: images, tool-tips and inverted Y\n",
    "    # There are also problems with export_png when using a FuncTickFormatter...\n",
    "    # This block of configuration lets you do either with just a flag.\n",
    "    if interactive:\n",
    "        tip = [(\"\", \"@image\")] if interactive else None\n",
    "        y_range = (-rows*row_scale,0)\n",
    "        y = -rows*row_scale\n",
    "        y_formatter = FuncTickFormatter(code=\"return `${tick*-1} kbp`\")\n",
    "    else:\n",
    "        tip = None\n",
    "        y_range=(rows*row_scale, 0)\n",
    "        y=rows*row_scale\n",
    "        y_formatter = PrintfTickFormatter(format=\"%d kbp\")\n",
    "    \n",
    "    \n",
    "    p = figure(width=600, height=550, x_range=(0,cols*col_scale), y_range=y_range,\n",
    "               title=\"Gene Deletions: Step & Location\",\n",
    "               tooltips=tip)\n",
    "\n",
    "    p.yaxis.formatter = y_formatter\n",
    "    p.xaxis.visible=False\n",
    "    p.image(image=[image], x=0, y=y, dw=cols*col_scale, dh=rows*row_scale, color_mapper=cmap)\n",
    "\n",
    "    colorbar = ColorBar(color_mapper=cmap, location=(0,0), title=\"Step\", name=\"colorbar\")\n",
    "    p.add_layout(colorbar, \"right\")\n",
    "    return p\n",
    "\n",
    "p = block_diagram(interactive=False)\n",
    "show(p)\n",
    "export(p, \"gene_block.png\")"
   ]
  },
  {
   "cell_type": "markdown",
   "metadata": {},
   "source": [
    "# Protein Rings"
   ]
  },
  {
   "cell_type": "code",
   "execution_count": null,
   "metadata": {},
   "outputs": [],
   "source": [
    "def ring_plot(data, rng, cmap, *, title=\"\", out_steps=3):\n",
    "    bokeh.io.curdoc().clear()\n",
    "\n",
    "    size = 400\n",
    "    inner_radius = size/4\n",
    "    \n",
    "    if \"outer\" not in data.columns: data = data.assign(outer=size/100)\n",
    "    if \"inner\" not in data.columns: data = data.assign(inner=0)\n",
    "     \n",
    "    data = data.assign(inner_radius=data.inner+inner_radius)\\\n",
    "               .assign(outer_radius=data.outer+inner_radius)\n",
    "        \n",
    "    source = ColumnDataSource(data)\n",
    "\n",
    "    span = data.outer_radius.abs().max()*1.1\n",
    "\n",
    "    p = figure(plot_width=size, plot_height=size,\n",
    "                x_range=(span, -span), y_range=(span,-span),\n",
    "                title=title)\n",
    "    \n",
    "    p.axis.visible = False\n",
    "    p.xgrid.grid_line_color = None\n",
    "    p.ygrid.grid_line_color = None\n",
    "\n",
    "    p.annular_wedge(source=source,\n",
    "                    x=0,y=0, \n",
    "                    inner_radius=\"inner_radius\", outer_radius=\"outer_radius\",\n",
    "                    start_angle=\"start_rad\", end_angle=\"stop_rad\",\n",
    "                    color=cmap)\n",
    "    p.title.text_font_size=\"10pt\"\n",
    "\n",
    "    \n",
    "    # Radial labels\n",
    "    #TODO: Need to \"nice\" these steps.  Right now they are very rough numbers.\n",
    "    out_radii = np.linspace(inner_radius, data.outer_radius.max(), out_steps)\n",
    "    step_size = out_radii[1] - out_radii[0]\n",
    "    in_radii = np.flip(np.arange(inner_radius, 0, -step_size)[1:])\n",
    "    radii = np.concatenate([in_radii, out_radii])\n",
    "    \n",
    "    out_labels = np.linspace(0, rng[1], out_radii.shape[0])\n",
    "    in_labels = np.linspace(-in_radii.shape[0]*out_labels[1], 0-out_labels[1], in_radii.shape[0])\n",
    "    labels = np.concatenate([in_labels, out_labels])\n",
    "\n",
    "    #Only show one more inner circle than values (Strictly speaking)\n",
    "    cutoff = np.where(labels < rng[0])[0]\n",
    "    cutoff= cutoff[-1] if cutoff.shape[0] > 0 else 0\n",
    "    \n",
    "    p.circle(0, 0, radius=radii[cutoff:], fill_color=None, line_color=\"lightgray\")\n",
    "    p.text(0, radii[cutoff:], [f\"{r:9.2f}\" for r in labels[cutoff:]],\n",
    "           text_font_size=\"8pt\", text_align=\"center\", text_baseline=\"middle\")\n",
    "\n",
    "    return p"
   ]
  },
  {
   "cell_type": "code",
   "execution_count": null,
   "metadata": {},
   "outputs": [],
   "source": []
  },
  {
   "cell_type": "code",
   "execution_count": null,
   "metadata": {},
   "outputs": [],
   "source": [
    "data = genes.assign(ab = (genes.seq%2).apply(str))\\\n",
    "            .assign(outer=np.linspace(1,10, genes.shape[0]))\n",
    "    \n",
    "cmap = factor_cmap('ab', [\"#F05974\", \"#260D75\"], [\"0\", \"1\"])\n",
    "\n",
    "show(ring_plot(data, (0, 1), cmap, title=\"A/B Seq Map\"))"
   ]
  },
  {
   "cell_type": "code",
   "execution_count": null,
   "metadata": {},
   "outputs": [],
   "source": [
    "bokeh.io.export_png(ring_plot(data, (0,1), cmap, title=\"A/B Seq Map\"))"
   ]
  },
  {
   "cell_type": "code",
   "execution_count": null,
   "metadata": {},
   "outputs": [],
   "source": [
    "observed.columns"
   ]
  },
  {
   "cell_type": "code",
   "execution_count": null,
   "metadata": {},
   "outputs": [],
   "source": [
    "from bokeh.layouts import gridplot\n",
    "def grid(plots, size=150):\n",
    "    rows, cols = square_shape(len(plots))\n",
    "    return gridplot(plots, ncols=cols, plot_width=size, plot_height=size)\n"
   ]
  },
  {
   "cell_type": "code",
   "execution_count": null,
   "metadata": {},
   "outputs": [],
   "source": [
    "def single_condition(condition, *, cmap=None, cdata=None, base=None, scale=10000):\n",
    "    vs = condition if base is None else base**condition\n",
    "    vs = vs/vs.sum()*scale\n",
    "\n",
    "    data = genes.join(vs, how=\"left\")\\\n",
    "                .fillna(0)\\\n",
    "                .rename({condition.name:\"outer\"}, axis=\"columns\")\n",
    "\n",
    "    if cmap is None or cdata is None:\n",
    "        data = data.assign(ab = (genes.seq%2).apply(str))\n",
    "        cmap = factor_cmap('ab', [\"#F05974\", \"#260D75\"], [\"0\", \"1\"])\n",
    "    else:\n",
    "        data = data.join(cdata, how=\"left\")\n",
    "\n",
    "    plot =  ring_plot(data, (condition.min(), condition.max()), cmap)\n",
    "    plot.title.text=condition.name\n",
    "    return plot\n",
    "\n",
    "show(single_condition(observed[\"W3110_control\"], base=2))\n"
   ]
  },
  {
   "cell_type": "code",
   "execution_count": null,
   "metadata": {},
   "outputs": [],
   "source": [
    "def delta_plot(focus, reference, genes, cmap=[\"#E02E4E\", \"#4D31A5\"], *, scale=500):\n",
    "    \"\"\"\n",
    "    focus -- Values of the \"current\" step.  Presents focus-reference.\n",
    "    reference -- Values of the step current is being compared to\n",
    "    genes -- Layout information\n",
    "    cmap -- A pair of colors, (Positive-color, Negative-color)\n",
    "    scale -- A rescale-factor to \"zoom\" the plot...sort of\n",
    "    \"\"\"\n",
    "    delta = (focus - reference).rename(\"delta\")*scale\n",
    "    data = genes.join(delta, how=\"left\")\\\n",
    "                .fillna(0)\n",
    "    data = data.assign(pn = data[\"delta\"].apply(lambda v: \"+\" if v > 0 else \"-\"))\\\n",
    "                .rename({\"delta\": \"outer\"}, axis=\"columns\")\n",
    "\n",
    "    cmap = factor_cmap('pn', cmap, [\"+\", \"-\"])\n",
    "\n",
    "    plot =  ring_plot(data, (data[\"outer\"].min()/scale, data[\"outer\"].max()/scale),\n",
    "                                 cmap, title = f\"{focus.name} vs {reference.name}\")\n",
    "    \n",
    "    return plot"
   ]
  },
  {
   "cell_type": "code",
   "execution_count": null,
   "metadata": {},
   "outputs": [],
   "source": [
    "show(delta_plot(observed[\"Step_06_control\"], observed[\"W3110_control\"], genes))"
   ]
  },
  {
   "cell_type": "code",
   "execution_count": null,
   "metadata": {
    "scrolled": false
   },
   "outputs": [],
   "source": [
    "g = grid([single_condition(observed[condition]) for condition in observed.columns])\n",
    "show(g)"
   ]
  },
  {
   "cell_type": "code",
   "execution_count": null,
   "metadata": {},
   "outputs": [],
   "source": [
    "show(single_condition(predicted[predicted.columns[-6]], base=2))\n"
   ]
  },
  {
   "cell_type": "code",
   "execution_count": null,
   "metadata": {},
   "outputs": [],
   "source": [
    "step_integers = (655104, 65535, 590079, 16711924, 16711700,)\n",
    "def get_RGB_from_I(RGBint):\n",
    "    blue =  RGBint & 255\n",
    "    green = (RGBint >> 8) & 255\n",
    "    red =   (RGBint >> 16) & 255\n",
    "    return red, green, blue\n",
    "\n",
    "def get_I_from_RGB(rgb):\n",
    "    red = rgb[0]\n",
    "    green = rgb[1]\n",
    "    blue = rgb[2]\n",
    "    print(red, green, blue)\n",
    "    RGBint = (red<<16) + (green<<8) + blue\n",
    "    return RGBint\n",
    "\n",
    "def get_hex_from_RGB( rgb ):\n",
    "    return \n",
    "    \n",
    "def get_hex_from_I( RGBint ):\n",
    "    r,g,b = get_RGB_from_I( RGBint )\n",
    "    return \"#{0:02x}{1:02x}{2:02x}\".format(r,g,b)\n",
    "step_hex = [get_hex_from_I(step) for step in step_integers]\n",
    "#step_color = {\"Step05\": \"#00ffff\", \"Step09\": '#0900ff', \"Step10\": '#ff00f4', \"W3110\":'#ff0014' }\n",
    "step_color = dict(zip([\"Step10\", \"Step09\", \"W3110\",\"Step05\"], \n",
    "                      bokeh.palettes.Colorblind[4]))"
   ]
  },
  {
   "cell_type": "code",
   "execution_count": null,
   "metadata": {},
   "outputs": [],
   "source": [
    "step_color"
   ]
  },
  {
   "cell_type": "code",
   "execution_count": null,
   "metadata": {
    "scrolled": false
   },
   "outputs": [],
   "source": [
    "step_predictions = \"\"\"Step05_predicted_from_W3110\n",
    "Step09_predicted_from_Step05\n",
    "Step10_predicted_from_W3110\n",
    "Step10_predicted_from_Step09\"\"\".split('\\n')\n",
    "plots = []\n",
    "for step_predicted in step_predictions:\n",
    "    step_measured = 'iBAQ_{}'.format(step_predicted[:6])\n",
    "    positive_mask = (predicted[step_predicted].apply(np.log2) - predicted[step_measured].apply(np.log2)) > 0\n",
    "    negative_mask = ~positive_mask\n",
    "    over_predicted = predicted[positive_mask][step_predicted].sum()\n",
    "    under_predicted = predicted[negative_mask][step_predicted].sum()\n",
    "    net_predicted = over_predicted - under_predicted\n",
    "    kl_div = predicted[r'$D_{KL}\\left(\\text{%s}\\|\\text{%s}\\right)$' % (step_measured, step_predicted)].sum()\n",
    "    print('Overpredicted: {:.0%}\\nUnderpredicted: {:.0%}\\nNet predicted: {:.0%}\\nKL-divergence: {}'.format(over_predicted,\n",
    "                                                                             under_predicted,\n",
    "                                                                             net_predicted, \n",
    "                                                                                                          kl_div))\n",
    "    cmap = (step_color[step_predicted.split(\"_\")[0]],\n",
    "            step_color[step_predicted.split(\"_\")[-1]])\n",
    "    p = delta_plot(predicted[step_predicted].apply(np.log2).fillna(0), \n",
    "                predicted[step_measured].apply(np.log2).fillna(0),\n",
    "                genes, cmap, scale=5 )\n",
    "    plots.append(p)\n",
    "    show(p)\n",
    "    export(p, '{}_vs_{}.png'.format( step_predicted, \n",
    "                                     step_measured ))\n",
    "# grid_plot = grid(plots)\n",
    "# show(grid_plot)\n",
    "#export(grid_plot, 'grid_plot.png')"
   ]
  },
  {
   "cell_type": "code",
   "execution_count": null,
   "metadata": {},
   "outputs": [],
   "source": [
    "from IPython.display import Latex, HTML\n",
    "Latex(predicted.columns[-6])"
   ]
  },
  {
   "cell_type": "code",
   "execution_count": null,
   "metadata": {},
   "outputs": [],
   "source": [
    "for i in range(6):\n",
    "    display(Latex(predicted.columns[-6+i]))"
   ]
  },
  {
   "cell_type": "code",
   "execution_count": null,
   "metadata": {},
   "outputs": [],
   "source": [
    "print('\\n'.join(predicted.columns))"
   ]
  },
  {
   "cell_type": "code",
   "execution_count": null,
   "metadata": {},
   "outputs": [],
   "source": [
    "novel_predictions = pd.read_csv(\"genome_view.tab\", sep=\"\\t\")\n",
    "novel_predictions = novel_predictions[novel_predictions[\"$gene_or_promoter\"].str.startswith(\"b\")]\\\n",
    "                        .rename({\"$gene_or_promoter\": \"gene_or_promoter\",\n",
    "                                 \"mass reclaimed $(fg/cell)$\": \"mass reclaimed (fg/cell)\"}, axis=\"columns\")\\\n",
    "                        .set_index(\"gene_or_promoter\")\n",
    "\n",
    "novel_predictions\n",
    "sorted(set(novel_predictions['mass reclaimed (fg/cell)'].values))"
   ]
  },
  {
   "cell_type": "code",
   "execution_count": null,
   "metadata": {},
   "outputs": [],
   "source": []
  },
  {
   "cell_type": "code",
   "execution_count": null,
   "metadata": {},
   "outputs": [],
   "source": [
    "# [<2 fg/cell,  <4 fg/cell, < 8 fg/cell, < 16 fg/cell, < 32 fg/cell]\n",
    "magnitudes = novel_predictions[\"mass reclaimed (fg/cell)\"].apply(np.log2).apply(ceil).apply(str)\n",
    "magnitudes.name = \"magnitude\"\n",
    "factors = magnitudes.unique()\n",
    "cmap =  factor_cmap('magnitude', palettes.viridis(len(factors)), factors = factors)"
   ]
  },
  {
   "cell_type": "code",
   "execution_count": null,
   "metadata": {},
   "outputs": [],
   "source": [
    "p= single_condition(novel_predictions[\"mass reclaimed (fg/cell)\"], cmap=cmap, cdata=magnitudes)\n",
    "show(p)\n",
    "export(p, \"reclaimed.png\")"
   ]
  },
  {
   "cell_type": "code",
   "execution_count": null,
   "metadata": {},
   "outputs": [],
   "source": []
  },
  {
   "cell_type": "code",
   "execution_count": null,
   "metadata": {},
   "outputs": [],
   "source": []
  }
 ],
 "metadata": {
  "kernelspec": {
   "display_name": "Python (synth_bio)",
   "language": "python",
   "name": "synthn_bio"
  },
  "language_info": {
   "codemirror_mode": {
    "name": "ipython",
    "version": 3
   },
   "file_extension": ".py",
   "mimetype": "text/x-python",
   "name": "python",
   "nbconvert_exporter": "python",
   "pygments_lexer": "ipython3",
   "version": "3.6.7"
  }
 },
 "nbformat": 4,
 "nbformat_minor": 2
}
