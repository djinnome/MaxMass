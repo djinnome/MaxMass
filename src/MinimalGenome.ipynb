{
 "cells": [
  {
   "cell_type": "code",
   "execution_count": 9,
   "metadata": {},
   "outputs": [
    {
     "data": {
      "text/plain": [
       "[u'b0001',\n",
       " u'b0002',\n",
       " u'b0003',\n",
       " u'b0004',\n",
       " u'b0005',\n",
       " u'b0006',\n",
       " u'b0007',\n",
       " u'b0008']"
      ]
     },
     "execution_count": 9,
     "metadata": {},
     "output_type": "execute_result"
    }
   ],
   "source": [
    "import pandas as pd\n",
    "df = pd.read_excel('data/Ecoli/genes_and_promoters.xlsx', sheet_name='all_clear_v2')\n",
    "df\n",
    "\n",
    "start, end = 190, 9191\n",
    "genes_of_interval = df[(df['start'] >= start) & \\\n",
    "                       (df['end'] <= end) & \\\n",
    "                       (df['class'] == 'gene')]\n",
    "genes_of_interval['gene_or_promoter'].tolist()"
   ]
  },
  {
   "cell_type": "code",
   "execution_count": null,
   "metadata": {},
   "outputs": [],
   "source": []
  }
 ],
 "metadata": {
  "gist_info": {
   "gist_id": null,
   "gist_url": null
  },
  "kernelspec": {
   "display_name": "Python 2",
   "language": "python",
   "name": "python2"
  },
  "language_info": {
   "codemirror_mode": {
    "name": "ipython",
    "version": 2
   },
   "file_extension": ".py",
   "mimetype": "text/x-python",
   "name": "python",
   "nbconvert_exporter": "python",
   "pygments_lexer": "ipython2",
   "version": "2.7.13"
  }
 },
 "nbformat": 4,
 "nbformat_minor": 2
}
