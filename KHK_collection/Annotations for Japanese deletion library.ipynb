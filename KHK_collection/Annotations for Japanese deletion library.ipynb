{
 "cells": [
  {
   "cell_type": "code",
   "execution_count": 2,
   "metadata": {},
   "outputs": [],
   "source": [
    "dels = [\n",
    "   [[1049227, 1097311]],\n",
    "   [[3109247, 3133480]],\n",
    "   [[4239495, 4255870]],\n",
    "   [[1198444, 1225484]],\n",
    "   [[1630054, 1640180], [1641770, 1649361]],\n",
    "   [[518367, 533048], [535841, 550551], [564277, 608454]],\n",
    "   [[3486428, 3496908], [3536156, 3549686], [3556478, 3576238]],\n",
    "   [[2984498, 3032266]],\n",
    "   [[244301, 253746], [262300, 387867], [389475, 404039]],\n",
    "   [[3697305, 3709526], [3762909, 3772816], [3774088, 3785257]],\n",
    "   [[1963664, 1992215], [1995801, 2027348], [2032588, \n",
    "     2043515], [2068289, 2081066], [2103532, 2115203]],\n",
    "   [[2754815, 2788618], [2794312, 2800028], [2824452, 2829398]],\n",
    "   [[3361081, 3370891]],\n",
    "   [[2145403, 2186994], [2199808, 2228989], [2255035, 2262631]],\n",
    "   [[3076224, 3078055]],\n",
    "   [[4501438, 4514770], [4523114, 4604874]],\n",
    "   [[729157, 739929]],\n",
    "   [[4414768, 4428387]],\n",
    "   [[4003005, 4021346]],\n",
    "   [[832889, 848426], [867975, 883810], [891335, 909716]],\n",
    "   [[3164770, 3172081]],\n",
    "   [[675440, 689710]],\n",
    "   [[2422504, 2433237], [2471991, 2481621]],\n",
    "   [[4170563, 4186908]],\n",
    "   [[2385401, 2394610]],\n",
    "   [[3411500, 3421220]],\n",
    "   [[2909410, 2909709]],\n",
    "   [[167401, 173315]],\n",
    "   [[640669, 659192], [2921194, 2943638], [65857, 78797], [4128291, \n",
    "     4141015], [1853580, 1864142], [3794688, 3803458], [3224890, \n",
    "     3240400], [4055372, 4061465], [1875288, 1888499], [2876630, \n",
    "     2876783], [2599858, 2613439]],\n",
    "   [[2921194, 2943638]],\n",
    "   [[1651508, 1657863], [2494688, 2513688], [3871777, \n",
    "     3914528], [4447062, 4453719], [1592568, 1599800], [3746428, \n",
    "     3751980], [1296003, 1308864], [1098128, 1117068], [1522387, \n",
    "     1543782], [15445, 16903], [19646, 20508], [1359517, \n",
    "     1368530], [2519718, 2523278], [2909410, 2909709], [3183787, \n",
    "     3188521], [2289724, 2293603], [2411459, 2412234], [2091353, \n",
    "     2091607], [3987068, 3989225], [2091353, 2091607], [3987068, \n",
    "     3989225], [3918367, 3923869], [3932710, 3938551]],\n",
    "   [[2361574, 2382929], [1130992, 1142564], [2836910, \n",
    "     2855462], [3730114, 3742029], [3058023, 3068464], [3258359, \n",
    "     3269672], [1607823, 1624231], [1582557, 1592251], [1396605, \n",
    "     1520045], [4281498, 4291254], [4298072, 4366613], [747145, \n",
    "     753217], [3918091, 3969123]]\n",
    "   ];"
   ]
  },
  {
   "cell_type": "code",
   "execution_count": 4,
   "metadata": {},
   "outputs": [],
   "source": [
    "from Bio import SeqIO\n",
    "\n",
    "gPath = 'W3110.gb'\n",
    "\n",
    "tempBio = SeqIO.read(gPath, 'genbank')\n",
    "\n",
    "#print tempBio"
   ]
  },
  {
   "cell_type": "code",
   "execution_count": 8,
   "metadata": {},
   "outputs": [
    {
     "ename": "AttributeError",
     "evalue": "'SeqRecord' object has no attribute 'feature'",
     "output_type": "error",
     "traceback": [
      "\u001b[0;31m---------------------------------------------------------------------------\u001b[0m",
      "\u001b[0;31mAttributeError\u001b[0m                            Traceback (most recent call last)",
      "\u001b[0;32m<ipython-input-8-1285b425ef0f>\u001b[0m in \u001b[0;36m<module>\u001b[0;34m()\u001b[0m\n\u001b[0;32m----> 1\u001b[0;31m \u001b[0mtempBio\u001b[0m\u001b[0;34m.\u001b[0m\u001b[0mfeature\u001b[0m\u001b[0;34m[\u001b[0m\u001b[0;36m0\u001b[0m\u001b[0;34m]\u001b[0m\u001b[0;34m\u001b[0m\u001b[0m\n\u001b[0m",
      "\u001b[0;31mAttributeError\u001b[0m: 'SeqRecord' object has no attribute 'feature'"
     ]
    }
   ],
   "source": [
    "tempBio.feature"
   ]
  },
  {
   "cell_type": "code",
   "execution_count": 20,
   "metadata": {},
   "outputs": [
    {
     "ename": "AttributeError",
     "evalue": "'SeqFeature' object has no attribute 'SeqFeature'",
     "output_type": "error",
     "traceback": [
      "\u001b[0;31m---------------------------------------------------------------------------\u001b[0m",
      "\u001b[0;31mAttributeError\u001b[0m                            Traceback (most recent call last)",
      "\u001b[0;32m<ipython-input-20-000ae8bd2474>\u001b[0m in \u001b[0;36m<module>\u001b[0;34m()\u001b[0m\n\u001b[0;32m----> 1\u001b[0;31m \u001b[0mtempBio\u001b[0m\u001b[0;34m.\u001b[0m\u001b[0mfeatures\u001b[0m\u001b[0;34m[\u001b[0m\u001b[0;36m0\u001b[0m\u001b[0;34m]\u001b[0m\u001b[0;34m.\u001b[0m\u001b[0mSeqFeature\u001b[0m\u001b[0;34m\u001b[0m\u001b[0m\n\u001b[0m",
      "\u001b[0;31mAttributeError\u001b[0m: 'SeqFeature' object has no attribute 'SeqFeature'"
     ]
    }
   ],
   "source": [
    "tempBio.features[0]"
   ]
  },
  {
   "cell_type": "code",
   "execution_count": 14,
   "metadata": {
    "scrolled": false
   },
   "outputs": [
    {
     "data": {
      "text/plain": [
       "['comment',\n",
       " 'source',\n",
       " 'taxonomy',\n",
       " 'keywords',\n",
       " 'references',\n",
       " 'accessions',\n",
       " 'molecule_type',\n",
       " 'data_file_division',\n",
       " 'date',\n",
       " 'organism',\n",
       " 'sequence_version',\n",
       " 'topology']"
      ]
     },
     "execution_count": 14,
     "metadata": {},
     "output_type": "execute_result"
    }
   ],
   "source": [
    "tempBio.annotations.keys()"
   ]
  },
  {
   "cell_type": "code",
   "execution_count": 16,
   "metadata": {},
   "outputs": [
    {
     "data": {
      "text/plain": [
       "4646332"
      ]
     },
     "execution_count": 16,
     "metadata": {},
     "output_type": "execute_result"
    }
   ],
   "source": [
    "len(genome)"
   ]
  },
  {
   "cell_type": "code",
   "execution_count": 3,
   "metadata": {},
   "outputs": [
    {
     "data": {
      "text/plain": [
       "32"
      ]
     },
     "execution_count": 3,
     "metadata": {},
     "output_type": "execute_result"
    }
   ],
   "source": [
    "len(dels)"
   ]
  },
  {
   "cell_type": "code",
   "execution_count": 8,
   "metadata": {},
   "outputs": [],
   "source": [
    "stepDel = []\n",
    "for i, step in enumerate(dels):\n",
    "    stepDel.append(sum([s[1]-s[0] for s in step]))\n",
    "cumuDel = []\n",
    "cumuDel = [sum(stepDel[:i+1]) for i in range(len(stepDel))]"
   ]
  },
  {
   "cell_type": "code",
   "execution_count": null,
   "metadata": {
    "collapsed": true
   },
   "outputs": [],
   "source": []
  },
  {
   "cell_type": "code",
   "execution_count": 11,
   "metadata": {
    "collapsed": true
   },
   "outputs": [],
   "source": [
    "import coral"
   ]
  },
  {
   "cell_type": "code",
   "execution_count": 1,
   "metadata": {},
   "outputs": [
    {
     "ename": "NameError",
     "evalue": "name 'coral' is not defined",
     "output_type": "error",
     "traceback": [
      "\u001b[0;31m---------------------------------------------------------------------------\u001b[0m",
      "\u001b[0;31mNameError\u001b[0m                                 Traceback (most recent call last)",
      "\u001b[0;32m<ipython-input-1-5ff2e575f4c4>\u001b[0m in \u001b[0;36m<module>\u001b[0;34m()\u001b[0m\n\u001b[1;32m      1\u001b[0m \u001b[0;31m#gPath = '/Users/robere/Google Drive/Research/Berkeley research/W3110.gb'\u001b[0m\u001b[0;34m\u001b[0m\u001b[0;34m\u001b[0m\u001b[0m\n\u001b[1;32m      2\u001b[0m \u001b[0mgPathj\u001b[0m \u001b[0;34m=\u001b[0m \u001b[0;34m'W3110.gb'\u001b[0m\u001b[0;34m\u001b[0m\u001b[0m\n\u001b[0;32m----> 3\u001b[0;31m \u001b[0mgenome\u001b[0m \u001b[0;34m=\u001b[0m \u001b[0mcoral\u001b[0m\u001b[0;34m.\u001b[0m\u001b[0mseqio\u001b[0m\u001b[0;34m.\u001b[0m\u001b[0mread_dna\u001b[0m\u001b[0;34m(\u001b[0m\u001b[0mgPath\u001b[0m\u001b[0;34m)\u001b[0m\u001b[0;34m\u001b[0m\u001b[0m\n\u001b[0m",
      "\u001b[0;31mNameError\u001b[0m: name 'coral' is not defined"
     ]
    }
   ],
   "source": [
    "#gPath = '/Users/robere/Google Drive/Research/Berkeley research/W3110.gb'\n",
    "gPath = 'W3110.gb'\n",
    "genome = coral.seqio.read_dna(gPath)"
   ]
  }
 ],
 "metadata": {
  "kernelspec": {
   "display_name": "Python 2",
   "language": "python",
   "name": "python2"
  },
  "language_info": {
   "codemirror_mode": {
    "name": "ipython",
    "version": 2
   },
   "file_extension": ".py",
   "mimetype": "text/x-python",
   "name": "python",
   "nbconvert_exporter": "python",
   "pygments_lexer": "ipython2",
   "version": "2.7.13"
  }
 },
 "nbformat": 4,
 "nbformat_minor": 1
}
